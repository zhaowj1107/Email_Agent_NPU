{
 "cells": [
  {
   "cell_type": "code",
   "execution_count": 2,
   "id": "38dea1a4-fefc-455e-a8ca-79079d9af71e",
   "metadata": {},
   "outputs": [],
   "source": [
    "import os\n",
    "import sys\n",
    "import base64\n",
    "from email.mime.text import MIMEText\n",
    "from google.auth.transport.requests import Request\n",
    "from google.oauth2.credentials import Credentials\n",
    "from google_auth_oauthlib.flow import InstalledAppFlow\n",
    "from googleapiclient.discovery import build\n",
    "from googleapiclient.errors import HttpError\n",
    "from gmail_auth import authenticate_gmail"
   ]
  },
  {
   "cell_type": "code",
   "execution_count": 3,
   "id": "8ef0bd88-ba83-4b94-99f2-d62f54b9e694",
   "metadata": {},
   "outputs": [
    {
     "name": "stdout",
     "output_type": "stream",
     "text": [
      "Please visit this URL to authorize this application: https://accounts.google.com/o/oauth2/auth?response_type=code&client_id=660506888931-38v48l8og4ea9dmlsis3jomva3751ujo.apps.googleusercontent.com&redirect_uri=http%3A%2F%2Flocalhost%3A49510%2F&scope=https%3A%2F%2Fwww.googleapis.com%2Fauth%2Fgmail.modify&state=oSxyILTRFB93ECJdtRWZkW7NWHQnu1&access_type=offline\n"
     ]
    }
   ],
   "source": [
    "service = authenticate_gmail()"
   ]
  },
  {
   "cell_type": "code",
   "execution_count": 41,
   "id": "35c1b410-bf88-413e-bfb2-aa5be6cda708",
   "metadata": {},
   "outputs": [],
   "source": [
    "results = service.users().messages().list(\n",
    "            userId=\"me\", \n",
    "            maxResults=3,\n",
    "            labelIds=[\"INBOX\", \"UNREAD\"],        \n",
    "            q=\"category:primary\"\n",
    "        ).execute()"
   ]
  },
  {
   "cell_type": "code",
   "execution_count": 42,
   "id": "01fe8af1-e60e-4efb-a97d-0a256d21dc35",
   "metadata": {},
   "outputs": [
    {
     "data": {
      "text/plain": [
       "{'messages': [{'id': '19607106b2b61275', 'threadId': '19607106b2b61275'},\n",
       "  {'id': '196070cdb3e1450d', 'threadId': '196070cdb3e1450d'},\n",
       "  {'id': '195ffef9f7f7c71a', 'threadId': '195ffef9f7f7c71a'}],\n",
       " 'nextPageToken': '17380258890642508208',\n",
       " 'resultSizeEstimate': 201}"
      ]
     },
     "execution_count": 42,
     "metadata": {},
     "output_type": "execute_result"
    }
   ],
   "source": [
    "results"
   ]
  },
  {
   "cell_type": "code",
   "execution_count": 43,
   "id": "58d7aa5a-3e09-4582-9576-537e90c8a6ed",
   "metadata": {},
   "outputs": [
    {
     "data": {
      "text/plain": [
       "[{'id': '19607106b2b61275', 'threadId': '19607106b2b61275'},\n",
       " {'id': '196070cdb3e1450d', 'threadId': '196070cdb3e1450d'},\n",
       " {'id': '195ffef9f7f7c71a', 'threadId': '195ffef9f7f7c71a'}]"
      ]
     },
     "execution_count": 43,
     "metadata": {},
     "output_type": "execute_result"
    }
   ],
   "source": [
    "messages = results.get(\"messages\")\n",
    "messages"
   ]
  },
  {
   "cell_type": "code",
   "execution_count": 69,
   "id": "5304b296-19f6-4f21-8e98-b2ef82ac8542",
   "metadata": {},
   "outputs": [
    {
     "data": {
      "text/plain": [
       "{'id': '19607106b2b61275',\n",
       " 'threadId': '19607106b2b61275',\n",
       " 'labelIds': ['CATEGORY_UPDATES'],\n",
       " 'snippet': 'Email not displaying correctly? View it online Email not displaying correctly? View it online Hi there, Thanks for joining the Google Developer Program. It&#39;s great to have you on board. The Google',\n",
       " 'payload': {'partId': '',\n",
       "  'mimeType': 'multipart/alternative',\n",
       "  'filename': '',\n",
       "  'headers': [{'name': 'Delivered-To', 'value': 'zhaowj1107@gmail.com'},\n",
       "   {'name': 'Received',\n",
       "    'value': 'by 2002:a8a:341:0:b0:590:96bf:dc35 with SMTP id z1csp5787567oct;        Sat, 5 Apr 2025 10:47:18 -0700 (PDT)'},\n",
       "   {'name': 'X-Received',\n",
       "    'value': 'by 2002:a05:622a:13:b0:478:f00f:4440 with SMTP id d75a77b69052e-47925a4096emr96843481cf.40.1743875238611;        Sat, 05 Apr 2025 10:47:18 -0700 (PDT)'},\n",
       "   {'name': 'ARC-Seal',\n",
       "    'value': 'i=1; a=rsa-sha256; t=1743875238; cv=none;        d=google.com; s=arc-20240605;        b=a2y7CoajDjLnfaZIWhvdSvkJ4lJo8vyyTpX2+0KHHh1BEyc1Y5bEm+KIGMZpXj0auN         PRtxVFrUZDsQIXbZowqocqZ/ICS+6tYUgbbDwlVTXy0oh8iqK3i/mKdAZ6g95ZLku2kx         J+MQsJcDkz8fVJN4o42bAP18g/hi40LG3kIzFkDl03bUid8YZjmAXDAM1zZ3SpJ5oXr1         SODDN5oacLtJQ977Jp8lEwq2+LIAHRbUpkPeM3c9E2NJ8Pluor/To8pszxsja3KMuPn8         YKz20x3c9ZB71ZiTrdd5EZ2H2APkYxb59G1+fAlHVEF7ZQOtRr2+9cQgBUzrT+mUwQ5A         7nGw=='},\n",
       "   {'name': 'ARC-Message-Signature',\n",
       "    'value': 'i=1; a=rsa-sha256; c=relaxed/relaxed; d=google.com; s=arc-20240605;        h=to:from:subject:message-id:feedback-id:reply-to:date:mime-version         :dkim-signature;        bh=4vnIBjlMAcBxAy2cxOqrlPwOgJ7E7184EIT7VpXXQB8=;        fh=lp7CDvHlxZqyq41/RcNlIOkjrAIL+Ik6n4KdzxhxucM=;        b=aYtyODWi6k5rXmNjDhCA5sPOZeT3BTLjg7JDbhVOC3AQmMtqjtTUxIwupLgFfyG3AD         iRW/JXHO9HD1kumR503PN4YutVirQD+eiS+N0TbgQG9kRkM10zmOoko2/qCPmT2gZs80         SSX0Lhj8Ac7VsQKjFEiQhTqCUaMtMS4bHlY52vz+1BtiL9Z38yXOATyWLI2WFt52FADw         KsdqFv4H1V+QZqBkFtYGM7O+zHDTG6x1CH18KRMkEyjoYaVha+uhguMfU+04ir5IMgCr         rxWFZnAyMtbb/D0JcOLLNHIiJZiv3l0NiiJEILL2jzv805YeLDz4KupLBY250XswBcew         B/qw==;        dara=google.com'},\n",
       "   {'name': 'ARC-Authentication-Results',\n",
       "    'value': 'i=1; mx.google.com;       dkim=pass header.i=@google.com header.s=20230601 header.b=QEk4nflV;       spf=pass (google.com: domain of 3pmzxzxekcosv33v0tsta-236t40dv33v0t.r31ewp3byggfmv1px0.r31@scoutcamp.bounces.google.com designates 209.85.220.69 as permitted sender) smtp.mailfrom=3pmzxZxEKCosv33v0tstA-236t40Dv33v0t.r31Ewp3ByGGFMv1px0.r31@scoutcamp.bounces.google.com;       dmarc=pass (p=REJECT sp=REJECT dis=NONE) header.from=google.com;       dara=pass header.i=@gmail.com'},\n",
       "   {'name': 'Return-Path',\n",
       "    'value': '<3pmzxZxEKCosv33v0tstA-236t40Dv33v0t.r31Ewp3ByGGFMv1px0.r31@scoutcamp.bounces.google.com>'},\n",
       "   {'name': 'Received',\n",
       "    'value': 'from mail-sor-f69.google.com (mail-sor-f69.google.com. [209.85.220.69])        by mx.google.com with SMTPS id d75a77b69052e-4791b8e8debsor61347191cf.2.2025.04.05.10.47.18        for <zhaowj1107@gmail.com>        (Google Transport Security);        Sat, 05 Apr 2025 10:47:18 -0700 (PDT)'},\n",
       "   {'name': 'Received-SPF',\n",
       "    'value': 'pass (google.com: domain of 3pmzxzxekcosv33v0tsta-236t40dv33v0t.r31ewp3byggfmv1px0.r31@scoutcamp.bounces.google.com designates 209.85.220.69 as permitted sender) client-ip=209.85.220.69;'},\n",
       "   {'name': 'Authentication-Results',\n",
       "    'value': 'mx.google.com;       dkim=pass header.i=@google.com header.s=20230601 header.b=QEk4nflV;       spf=pass (google.com: domain of 3pmzxzxekcosv33v0tsta-236t40dv33v0t.r31ewp3byggfmv1px0.r31@scoutcamp.bounces.google.com designates 209.85.220.69 as permitted sender) smtp.mailfrom=3pmzxZxEKCosv33v0tstA-236t40Dv33v0t.r31Ewp3ByGGFMv1px0.r31@scoutcamp.bounces.google.com;       dmarc=pass (p=REJECT sp=REJECT dis=NONE) header.from=google.com;       dara=pass header.i=@gmail.com'},\n",
       "   {'name': 'DKIM-Signature',\n",
       "    'value': 'v=1; a=rsa-sha256; c=relaxed/relaxed;        d=google.com; s=20230601; t=1743875238; x=1744480038; dara=google.com;        h=to:from:subject:message-id:feedback-id:reply-to:date:mime-version         :from:to:cc:subject:date:message-id:reply-to;        bh=4vnIBjlMAcBxAy2cxOqrlPwOgJ7E7184EIT7VpXXQB8=;        b=QEk4nflVaQ2r5qBciU/c3NkqZRWD/26uAlioeWO1dleG3igIIn60sKq7+HNSXVo+JW         Frbz33Bq+DjsXM38Rp86BBwVL4eYQdQLJN5Avz9H8RfJM9yIldtZ8CNtSP4m7sIDabNH         2UGEGRKAAOGQJ1Rpo5r6B8k3gtF+pWyaO5cfgAZ/zEEHV/2A0hw6ItLh0/DS6FJvofQe         Z9bj1BK1i15jGLeMtRSfz0/GaDtAv/aZBlcI8UF7mC2j4JeATk8KFHRxz2v17oMic01x         +2TG8f+uffqBTjv8VNTtMTvy7ao/qHxqhZvIvfgnd2cVeAfoxc+0qv0YaUicqQKxStB4         3PfA=='},\n",
       "   {'name': 'X-Google-DKIM-Signature',\n",
       "    'value': 'v=1; a=rsa-sha256; c=relaxed/relaxed;        d=1e100.net; s=20230601; t=1743875238; x=1744480038;        h=to:from:subject:message-id:feedback-id:reply-to:date:mime-version         :x-gm-message-state:from:to:cc:subject:date:message-id:reply-to;        bh=4vnIBjlMAcBxAy2cxOqrlPwOgJ7E7184EIT7VpXXQB8=;        b=ecAkPgh1wsh0voF9z+kYwYdq+l4x4YqzytlBYc1vgRfVeu2CUqrtkxwp+CsLC3tMVx         tlE+PF3QovXRwecP2oPtZWIX7LIWUmFJQxcyOkb6WhTiitHt0bhaHZ0v8vb1IYbAptZB         W9hWJgwtZqLEiMZpVmKWVVRyTQqHojF0r8xYxmisGMtal31TDYV4sWjTFpiFLpFLEQh4         lVkw0wG71T4+Qn5Exur3V8cKvSQ9hW+I1lxw8pFh1Uw3IR1rzp8kC/Gyx3cooRNHhFxe         ylLAge93AP92xPcxWhU558phFKejBd+2x+ojeNAKswNUv2VQ/A9O7pJofR6IKsrH30Bl         uWow=='},\n",
       "   {'name': 'X-Gm-Message-State',\n",
       "    'value': 'AOJu0YwNXxRrAyIiWodhC1j3OSZtZIv09eCGDqWvfCgUGH9dnv2lW7c0 F/EnbM5LtuqKsmXDzXkvyBe17frXYS1NDvMZ0xJWF5f+8QnNV2b3a+jJ'},\n",
       "   {'name': 'X-Google-Smtp-Source',\n",
       "    'value': 'AGHT+IFhsj8K4m3af5iYKyhiOkmYsVn/uM3BBcu4UM7F8Wv/fZer7jF/ZicxEbK16oRCP5B8AMnAtwg='},\n",
       "   {'name': 'MIME-Version', 'value': '1.0'},\n",
       "   {'name': 'X-Received',\n",
       "    'value': 'by 2002:a05:622a:28f:b0:477:113a:2b49 with SMTP id d75a77b69052e-4792592382amr104628251cf.3.1743875238324; Sat, 05 Apr 2025 10:47:18 -0700 (PDT)'},\n",
       "   {'name': 'Date', 'value': 'Sat, 05 Apr 2025 10:47:18 -0700'},\n",
       "   {'name': 'Reply-To',\n",
       "    'value': 'Google Developer Program <googledev-noreply@google.com>'},\n",
       "   {'name': 'X-Google-Id', 'value': '4036680'},\n",
       "   {'name': 'Feedback-ID',\n",
       "    'value': 'P2470-0:C20126747:M110807059-en-US:gamma'},\n",
       "   {'name': 'X-Notifications', 'value': '3999701c3a720000'},\n",
       "   {'name': 'X-Notifications-Bounce-Info',\n",
       "    'value': 'Ab2lIHVRcGutxLl8ispG-X8iLeMjCFcANsFsqWzAsKq5qSG0o6cLyQKfOg8GpAFFGm0WSw5yNH6thz-pUciHGBA6-clCWTPitiFgxv4iMuEM6PVlTy0KAD4xPry7lBsiOPqUMS8D6zJx2N-LotGz_ZC2LNThtNhn4eahie1ryq4Ly9HTd9pl2SVaiiagzqefjMKeLQKgOl0tDfWxIcNdBiwjvgIcqlgt7I8_23pBxYfWfq_TGmiXEodSk5WLnFi7biUlZXi0i8B53yfXz9mL_4sjwUFgWe5HFEx5MH7NtC0E9xYP3r9tFbDXiL5ImUz44g_DOYxKYJqjLvoow0D4IvB10wfMerqneJiBxEXPKolLFo7g9e4tX-iZN5yCG0uZAgC8LGFhnjaSxsmELWSv9Wz97hIn5RqU2s3vGoNTuAhiiMHgbFVf21hVYINoStjW8vIs8eW-npMMI6lhnykNOut0vlxvHLmMjbkycv0NjAwNjA0MDQxNTM1NTk2OTMzMg'},\n",
       "   {'name': 'Message-ID',\n",
       "    'value': '<3308328dfe78498db58ea122b2a7107026a0e773-20126747-111549530@google.com>'},\n",
       "   {'name': 'Subject', 'value': 'Welcome to the Google Developer Program'},\n",
       "   {'name': 'From',\n",
       "    'value': 'Google Developer Program <googledev-noreply@google.com>'},\n",
       "   {'name': 'To', 'value': 'zhaowj1107@gmail.com'},\n",
       "   {'name': 'Content-Type',\n",
       "    'value': 'multipart/alternative; boundary=\"0000000000001ce8f006320b989b\"'}],\n",
       "  'body': {'size': 0},\n",
       "  'parts': [{'partId': '0',\n",
       "    'mimeType': 'text/plain',\n",
       "    'filename': '',\n",
       "    'headers': [{'name': 'Content-Type',\n",
       "      'value': 'text/plain; charset=\"UTF-8\"; format=flowed; delsp=yes'},\n",
       "     {'name': 'Content-Transfer-Encoding', 'value': 'base64'}],\n",
       "    'body': {'size': 2461,\n",
       "     'data': 'RW1haWwgbm90IGRpc3BsYXlpbmcgY29ycmVjdGx5PyBWaWV3IGl0IG9ubGluZSAgDQo8aHR0cHM6Ly9ub3RpZmljYXRpb25zLmdvb2dsZS5jb20vZy92aWIvQU5pYW81cXh4ZDJkTWhXaVMxbG9KNUowbmlWOHZfWGFGV0ZiQ3hMSHJBVHN1VlpqVFRPUDUtT09zOEktVVFkSTVSbklLbjVaR0NXWHZUVVR5bkhVTTBRMTllRm9jbDR1Q29VR1JjQUVtblVneXlDdkpSLUFDZE15SnhWWnctbWczMUFsNWJJPg0KDQpXZWxjb21lIHRvIHlvdXIgR29vZ2xlIERldmVsb3BlciBQcm9maWxlDQoNCjxodHRwczovL25vdGlmaWNhdGlvbnMuZ29vZ2xlLmNvbS9nL3AvQU5pYW81b09iZm4xMWZKTDdFX09LSUdUUmtUTW12djV6TDZTc2dLdEtpOFpLeWliemxESkdoUmk2bXZsQWJxQU1qOTI2Q1FTNlE5RU5MNk80TVNQajF5WDVsZDlzTmxCNXBBYWJmVXJHdE1kaG5OZEM4U3lMTF9qSXJBdXFaM1hkRW1mQ1RXNUZsSHZPQ0F1OUNyejNLNFVhTXlYWmg0TndCYzZNbkpEc0s5emliblYzWVVHNVA1eXB0S3dMTXc-DQoNCkhpIHRoZXJlLA0KDQpUaGFua3MgZm9yIGpvaW5pbmcgdGhlIEdvb2dsZSBEZXZlbG9wZXIgUHJvZ3JhbS4gSXTigJlzIGdyZWF0IHRvIGhhdmUgeW91IG9uICANCmJvYXJkLg0KDQpUaGUgR29vZ2xlIERldmVsb3BlciBQcm9ncmFtIGlzIGRlc2lnbmVkIHRvIGhlbHAgeW91IGdldCB0aGUgbW9zdCBvdXQgb2YgIA0KR29vZ2xlIGZvciBEZXZlbG9wZXJzIGFuZCBhY2NlbGVyYXRlIHlvdXIgY29kaW5nIGpvdXJuZXkgYnkgbWFraW5nICANCmRvY3VtZW50YXRpb24gbW9yZSB1c2VmdWwsIHRyYWluaW5nIG1vcmUgYWNjZXNzaWJsZSwgYW5kIGFjaGlldmVtZW50cyBtb3JlICANCnRhbmdpYmxlLiBUaGlzIHByb2dyYW0gZ2l2ZXMgeW91IGFjY2VzcyB0byBuZXcgYmVuZWZpdHMgc3VjaCBhcyBBSS1wb3dlcmVkICANCnRvb2xzIHVzaW5nIEdlbWluaSBtb2RlbHMsIHBlcnNvbmFsaXplZCBleHBlcmllbmNlcyBiYXNlZCBvbiB5b3VyICANCmRldmVsb3BtZW50IGludGVyZXN0cywgYW5kIGNvbm5lY3Rpb24gdG8gYSB0aHJpdmluZyBjb21tdW5pdHkgb2YgR29vZ2xlICANCmRldmVsb3BlcnMgYW5kIGV4cGVydHMuDQoNClRvIGdldCB0aGUgbW9zdCBvdXQgb2YgdGhlIHByb2dyYW0gYW5kIHBlcnNvbmFsaXplIHlvdXIgZXhwZXJpZW5jZSwgdmlzaXQgIA0KeW91ciBwcm9maWxlIHBhZ2UgYW5kIHVwZGF0ZSB5b3VyIHNldHRpbmdzICANCjxodHRwczovL25vdGlmaWNhdGlvbnMuZ29vZ2xlLmNvbS9nL3AvQU5pYW81cERFbHJUeVlIX3c2ZHJQYjkyWXNkSTJhX255emJsYmtwQkt6UWpja01zTXR6UVVVTnNwQTRBR2FqMlB1X0ZSWlBDQkpQck1QSDgzdGx1YXhIZm1UQjlwN2VkZDQtUnhkUmpyaF9VM2Q5UFhpYTh2ZmRMV3hnbkpMeG1iazcxUG9YUmtMMVhPOU0zd2EtSGpmVjBGTTBKM0J0WTExTksyS19FRkt0aXRMT0FPSnppaUxnWk4zeG8-ICANCndpdGggdGhlIHRvcGljcyB5b3UncmUgaW50ZXJlc3RlZCBpbi4NCg0KU3RhcnQgbm93ICANCjxodHRwczovL25vdGlmaWNhdGlvbnMuZ29vZ2xlLmNvbS9nL3AvQU5pYW81cU9JeVRKZUMxeEY5cXlkeDY1TVZtRTYxYjBTSG9jcVlseERSaEZQeGtMZk1GdUMyN1lKSERlZVB0cDJKcFh1aWhIWjJ2aE9vckFFV0tSYktNdmFWU1h6aWEyTllEZGhpVW43dkMtOWdNeFBqZjljb2tBZnpNNnRWd3hJRGhRUzFZMWdRNHpFdmhVRDluUFVoWURCZ1Z5QnNKRkpWNXowRFhwYU1jVEZVSjBhX2hrN3dRUENnPg0KDQpIZXJlIGFyZSBzb21lIG9mIHRoZSBiZW5lZml0cyB5b3UgY2FuIG5vdyBlbmpveToNCg0KU29sdmUgcHJvYmxlbXMgd2l0aCBHZW1pbmkNCg0KR2V0IGFuc3dlcnMgdG8geW91ciBjb2RpbmcgcXVlc3Rpb25zLCBxdWljayBzdW1tYXJpZXMgb2YgZG9jdW1lbnRhdGlvbiwgYW5kICANCnJlbGV2YW50IHNpdGUgc2VhcmNoIHJlc3VsdHMgd2l0aCBBSS1wb3dlcmVkIHRvb2xzIHVzaW5nIEdlbWluaSBtb2RlbHMuDQoNCkdyb3cgYW5kIHNoYXJlIHlvdXIgc3VjY2Vzcw0KDQpUYWlsb3IgeW91ciBsZWFybmluZyBqb3VybmV5IHRvIHlvdXIgaW50ZXJlc3RzIGFzIHlvdSBiZWNvbWUgcHJvZmljaWVudCBpbiAgDQpBbmRyb2lkLCBHb29nbGUgQ2xvdWQsIEZpcmViYXNlLCBDaHJvbWUsIGFuZCBtb3JlLiBPcmdhbml6ZSB5b3VyIHdvcmssICANCnRyYWNrIHlvdXIgcHJvZ3Jlc3MsIGVhcm4gYmFkZ2VzLCBhbmQgc2hhcmUgeW91ciBhY2hpZXZlbWVudHMuDQoNClRocml2ZSBpbiBhIGdsb2JhbCBjb21tdW5pdHkNCg0KSm9pbiBjb21tdW5pdGllcyBsaWtlIFdvbWVuIFRlY2htYWtlcnMgYW5kIGNvbm5lY3Qgd2l0aCBkZXZlbG9wZXJzIGFuZCAgDQpleHBlcnRzIGFjcm9zcyB0aGUgd29ybGQuIFVubG9jayBmcmVlIGxlYXJuaW5nIGNyZWRpdHMgd2l0aCBHb29nbGUgQ2xvdWQgIA0KSW5ub3ZhdG9ycywgZ2FpbiBhY2Nlc3MgdG8gZXhjbHVzaXZlIGV2ZW50cywgYW5kIHRlc3QgbmV3IGZlYXR1cmVzLg0KDQoNCg=='}},\n",
       "   {'partId': '1',\n",
       "    'mimeType': 'text/html',\n",
       "    'filename': '',\n",
       "    'headers': [{'name': 'Content-Type',\n",
       "      'value': 'text/html; charset=\"UTF-8\"'},\n",
       "     {'name': 'Content-Transfer-Encoding', 'value': 'quoted-printable'}],\n",
       "    'body': {'size': 26102,\n",
       "     'data': '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'}}]},\n",
       " 'sizeEstimate': 37934,\n",
       " 'historyId': '2298946',\n",
       " 'internalDate': '1743875238000'}"
      ]
     },
     "execution_count": 69,
     "metadata": {},
     "output_type": "execute_result"
    }
   ],
   "source": [
    "msg = messages[0]\n",
    "msg_data = service.users().messages().get(userId=\"me\", id=msg[\"id\"]).execute()\n",
    "msg_data"
   ]
  },
  {
   "cell_type": "code",
   "execution_count": 50,
   "id": "578d6586-9a76-40be-8cf3-41a1f31bb5c1",
   "metadata": {},
   "outputs": [
    {
     "data": {
      "text/plain": [
       "'Email not displaying correctly? View it online Email not displaying correctly? View it online Hi there, Thanks for joining the Google Developer Program. It&#39;s great to have you on board. The Google'"
      ]
     },
     "execution_count": 50,
     "metadata": {},
     "output_type": "execute_result"
    }
   ],
   "source": [
    "snippet = msg_data[\"snippet\"]\n",
    "snippet"
   ]
  },
  {
   "cell_type": "code",
   "execution_count": 58,
   "id": "3f740888-4562-4b31-b485-dc53ac7d4a20",
   "metadata": {},
   "outputs": [],
   "source": [
    "headers = msg_data[\"payload\"][\"headers\"]"
   ]
  },
  {
   "cell_type": "code",
   "execution_count": 59,
   "id": "ec51bbd3-b442-49e7-ab5f-efdf45e31462",
   "metadata": {},
   "outputs": [],
   "source": [
    "sender = next((h[\"value\"] for h in headers if h[\"name\"].lower() == \"from\"), \"Unknown Sender\")"
   ]
  },
  {
   "cell_type": "code",
   "execution_count": 62,
   "id": "c9a24bdc-3148-401a-9b56-f9811a36d543",
   "metadata": {},
   "outputs": [],
   "source": [
    "subject = next((h[\"value\"] for h in headers if h[\"name\"].lower() == \"subject\"), \"No Subject\")"
   ]
  },
  {
   "cell_type": "code",
   "execution_count": 63,
   "id": "877f4a3f-a941-4814-9e9a-2796b9bb9c21",
   "metadata": {},
   "outputs": [
    {
     "data": {
      "text/plain": [
       "'Welcome to the Google Developer Program'"
      ]
     },
     "execution_count": 63,
     "metadata": {},
     "output_type": "execute_result"
    }
   ],
   "source": [
    "subject"
   ]
  },
  {
   "cell_type": "code",
   "execution_count": 67,
   "id": "0f5f549f-e797-4689-a2f1-619fa86386c2",
   "metadata": {},
   "outputs": [],
   "source": [
    "body = \"\"\n",
    "if \"parts\" in msg_data[\"payload\"]:\n",
    "    for part in msg_data[\"payload\"][\"parts\"]:\n",
    "        if part[\"mimeType\"] == \"text/plain\":\n",
    "            if \"data\" in part[\"body\"]:\n",
    "                body = base64.urlsafe_b64decode(part[\"body\"][\"data\"]).decode(\"utf-8\")\n",
    "                break\n",
    "elif \"body\" in msg_data[\"payload\"] and \"data\" in msg_data[\"payload\"][\"body\"]:\n",
    "    body = base64.urlsafe_b64decode(msg_data[\"payload\"][\"body\"][\"data\"]).decode(\"utf-8\")"
   ]
  },
  {
   "cell_type": "code",
   "execution_count": 68,
   "id": "ddd75bf0-2781-417c-98bb-8f3bac8b9b08",
   "metadata": {},
   "outputs": [
    {
     "data": {
      "text/plain": [
       "\"Email not displaying correctly? View it online  \\r\\n<https://notifications.google.com/g/vib/ANiao5qxxd2dMhWiS1loJ5J0niV8v_XaFWFbCxLHrATsuVZjTTOP5-OOs8I-UQdI5RnIKn5ZGCWXvTUTynHUM0Q19eFocl4uCoUGRcAEmnUgyyCvJR-ACdMyJxVZw-mg31Al5bI>\\r\\n\\r\\nWelcome to your Google Developer Profile\\r\\n\\r\\n<https://notifications.google.com/g/p/ANiao5oObfn11fJL7E_OKIGTRkTMmvv5zL6SsgKtKi8ZKyibzlDJGhRi6mvlAbqAMj926CQS6Q9ENL6O4MSPj1yX5ld9sNlB5pAabfUrGtMdhnNdC8SyLL_jIrAuqZ3XdEmfCTW5FlHvOCAu9Crz3K4UaMyXZh4NwBc6MnJDsK9zibnV3YUG5P5yptKwLMw>\\r\\n\\r\\nHi there,\\r\\n\\r\\nThanks for joining the Google Developer Program. It’s great to have you on  \\r\\nboard.\\r\\n\\r\\nThe Google Developer Program is designed to help you get the most out of  \\r\\nGoogle for Developers and accelerate your coding journey by making  \\r\\ndocumentation more useful, training more accessible, and achievements more  \\r\\ntangible. This program gives you access to new benefits such as AI-powered  \\r\\ntools using Gemini models, personalized experiences based on your  \\r\\ndevelopment interests, and connection to a thriving community of Google  \\r\\ndevelopers and experts.\\r\\n\\r\\nTo get the most out of the program and personalize your experience, visit  \\r\\nyour profile page and update your settings  \\r\\n<https://notifications.google.com/g/p/ANiao5pDElrTyYH_w6drPb92YsdI2a_nyzblbkpBKzQjckMsMtzQUUNspA4AGaj2Pu_FRZPCBJPrMPH83tluaxHfmTB9p7edd4-RxdRjrh_U3d9PXia8vfdLWxgnJLxmbk71PoXRkL1XO9M3wa-HjfV0FM0J3BtY11NK2K_EFKtitLOAOJziiLgZN3xo>  \\r\\nwith the topics you're interested in.\\r\\n\\r\\nStart now  \\r\\n<https://notifications.google.com/g/p/ANiao5qOIyTJeC1xF9qydx65MVmE61b0SHocqYlxDRhFPxkLfMFuC27YJHDeePtp2JpXuihHZ2vhOorAEWKRbKMvaVSXzia2NYDdhiUn7vC-9gMxPjf9cokAfzM6tVwxIDhQS1Y1gQ4zEvhUD9nPUhYDBgVyBsJFJV5z0DXpaMcTFUJ0a_hk7wQPCg>\\r\\n\\r\\nHere are some of the benefits you can now enjoy:\\r\\n\\r\\nSolve problems with Gemini\\r\\n\\r\\nGet answers to your coding questions, quick summaries of documentation, and  \\r\\nrelevant site search results with AI-powered tools using Gemini models.\\r\\n\\r\\nGrow and share your success\\r\\n\\r\\nTailor your learning journey to your interests as you become proficient in  \\r\\nAndroid, Google Cloud, Firebase, Chrome, and more. Organize your work,  \\r\\ntrack your progress, earn badges, and share your achievements.\\r\\n\\r\\nThrive in a global community\\r\\n\\r\\nJoin communities like Women Techmakers and connect with developers and  \\r\\nexperts across the world. Unlock free learning credits with Google Cloud  \\r\\nInnovators, gain access to exclusive events, and test new features.\\r\\n\\r\\n\\r\\n\""
      ]
     },
     "execution_count": 68,
     "metadata": {},
     "output_type": "execute_result"
    }
   ],
   "source": [
    "body"
   ]
  }
 ],
 "metadata": {
  "kernelspec": {
   "display_name": "Python (my_env)",
   "language": "python",
   "name": "my_env"
  },
  "language_info": {
   "codemirror_mode": {
    "name": "ipython",
    "version": 3
   },
   "file_extension": ".py",
   "mimetype": "text/x-python",
   "name": "python",
   "nbconvert_exporter": "python",
   "pygments_lexer": "ipython3",
   "version": "3.11.5"
  }
 },
 "nbformat": 4,
 "nbformat_minor": 5
}
